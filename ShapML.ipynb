pip install shap

import shap

# Assuming lr is your trained Logistic Regression model
# Assuming X_train, X_test, y_train, y_test are your training and testing data

# Create a SHAP explainer object
explainer = shap.Explainer(lr, X_train)

# Calculate SHAP values for all samples in the test set
shap_values = explainer.shap_values(X_test)

# Plot the SHAP summary plot
shap.summary_plot(shap_values, X_test, plot_type="bar")
